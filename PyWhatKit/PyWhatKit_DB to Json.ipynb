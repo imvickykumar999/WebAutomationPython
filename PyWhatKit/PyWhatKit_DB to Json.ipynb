{
 "cells": [
  {
   "cell_type": "code",
   "execution_count": 2,
   "metadata": {
    "scrolled": true
   },
   "outputs": [
    {
     "name": "stdout",
     "output_type": "stream",
     "text": [
      "Date: 17/2/2022\n",
      "Time: 0:21\n",
      "Phone Number: +918239957923\n",
      "Message: Hi\n",
      "--------------------\n",
      "Date: 17/2/2022\n",
      "Time: 0:30\n",
      "Phone Number: +918239957923\n",
      "Message: Hi\n",
      "--------------------\n",
      "Date: 17/2/2022\n",
      "Time: 0:31\n",
      "Phone Number: +918239957923\n",
      "Image: Saboot_ss.jpg\n",
      "Caption: \n",
      "--------------------\n",
      "Date: 17/2/2022\n",
      "Time: 0:32\n",
      "Phone Number: +918239957923\n",
      "Image: Saboot_ss.jpg\n",
      "Caption: \n",
      "--------------------\n",
      "Date: 17/2/2022\n",
      "Time: 0:34\n",
      "Group ID: FOynWhcNPzX1WFMaUPiDcA\n",
      "Image: Saboot_ss.jpg\n",
      "Caption: Hello, this photo is sent from Selenium library.\n",
      "--------------------\n",
      "Date: 17/2/2022\n",
      "Time: 0:36\n",
      "Group ID: FOynWhcNPzX1WFMaUPiDcA\n",
      "Message: Hello, this photo is sent from Selenium library!\n",
      "--------------------\n",
      "Date: 17/2/2022\n",
      "Time: 0:38\n",
      "Phone Number: +918239957923\n",
      "Message: Hi\n",
      "--------------------\n",
      "Date: 17/2/2022\n",
      "Time: 0:41\n",
      "Phone Number: +918239957923\n",
      "Message: Hi\n",
      "--------------------\n",
      "Date: 17/2/2022\n",
      "Time: 0:42\n",
      "Phone Number: +918239957923\n",
      "Image: Saboot_ss.jpg\n",
      "Caption: \n",
      "--------------------\n",
      "Date: 17/2/2022\n",
      "Time: 0:43\n",
      "Group ID: FOynWhcNPzX1WFMaUPiDcA\n",
      "Image: Saboot_ss.jpg\n",
      "Caption: Hello, this photo is sent from Selenium library.\n",
      "--------------------\n",
      "\n"
     ]
    }
   ],
   "source": [
    "with open('PyWhatKit_DB.txt') as t:\n",
    "    txt = t.read()\n",
    "print(txt)"
   ]
  },
  {
   "cell_type": "code",
   "execution_count": 4,
   "metadata": {},
   "outputs": [
    {
     "data": {
      "text/plain": [
       "['Date: 17/2/2022\\nTime: 0:21\\nPhone Number: +918239957923\\nMessage: Hi\\n',\n",
       " '\\nDate: 17/2/2022\\nTime: 0:30\\nPhone Number: +918239957923\\nMessage: Hi\\n',\n",
       " '\\nDate: 17/2/2022\\nTime: 0:31\\nPhone Number: +918239957923\\nImage: Saboot_ss.jpg\\nCaption: \\n',\n",
       " '\\nDate: 17/2/2022\\nTime: 0:32\\nPhone Number: +918239957923\\nImage: Saboot_ss.jpg\\nCaption: \\n',\n",
       " '\\nDate: 17/2/2022\\nTime: 0:34\\nGroup ID: FOynWhcNPzX1WFMaUPiDcA\\nImage: Saboot_ss.jpg\\nCaption: Hello, this photo is sent from Selenium library.\\n',\n",
       " '\\nDate: 17/2/2022\\nTime: 0:36\\nGroup ID: FOynWhcNPzX1WFMaUPiDcA\\nMessage: Hello, this photo is sent from Selenium library!\\n',\n",
       " '\\nDate: 17/2/2022\\nTime: 0:38\\nPhone Number: +918239957923\\nMessage: Hi\\n',\n",
       " '\\nDate: 17/2/2022\\nTime: 0:41\\nPhone Number: +918239957923\\nMessage: Hi\\n',\n",
       " '\\nDate: 17/2/2022\\nTime: 0:42\\nPhone Number: +918239957923\\nImage: Saboot_ss.jpg\\nCaption: \\n',\n",
       " '\\nDate: 17/2/2022\\nTime: 0:43\\nGroup ID: FOynWhcNPzX1WFMaUPiDcA\\nImage: Saboot_ss.jpg\\nCaption: Hello, this photo is sent from Selenium library.\\n',\n",
       " '\\n']"
      ]
     },
     "execution_count": 4,
     "metadata": {},
     "output_type": "execute_result"
    }
   ],
   "source": [
    "mess = txt.split('--------------------')\n",
    "mess"
   ]
  },
  {
   "cell_type": "code",
   "execution_count": 5,
   "metadata": {},
   "outputs": [
    {
     "data": {
      "text/plain": [
       "11"
      ]
     },
     "execution_count": 5,
     "metadata": {},
     "output_type": "execute_result"
    }
   ],
   "source": [
    "len(mess)"
   ]
  },
  {
   "cell_type": "code",
   "execution_count": 12,
   "metadata": {},
   "outputs": [
    {
     "data": {
      "text/plain": [
       "'Date: 17/2/2022\\nTime: 0:21\\nPhone Number: +918239957923\\nMessage: Hi\\n'"
      ]
     },
     "execution_count": 12,
     "metadata": {},
     "output_type": "execute_result"
    }
   ],
   "source": [
    "mess[0]"
   ]
  },
  {
   "cell_type": "code",
   "execution_count": 34,
   "metadata": {
    "scrolled": true
   },
   "outputs": [
    {
     "data": {
      "text/plain": [
       "[{'Date': '17/2/2022',\n",
       "  'Time': '0:21',\n",
       "  'Phone Number': '+918239957923',\n",
       "  'Message': 'Hi'},\n",
       " {'Date': '17/2/2022',\n",
       "  'Time': '0:30',\n",
       "  'Phone Number': '+918239957923',\n",
       "  'Message': 'Hi'},\n",
       " {'Date': '17/2/2022',\n",
       "  'Time': '0:31',\n",
       "  'Phone Number': '+918239957923',\n",
       "  'Image': 'Saboot_ss.jpg',\n",
       "  'Caption': ''},\n",
       " {'Date': '17/2/2022',\n",
       "  'Time': '0:32',\n",
       "  'Phone Number': '+918239957923',\n",
       "  'Image': 'Saboot_ss.jpg',\n",
       "  'Caption': ''},\n",
       " {'Date': '17/2/2022',\n",
       "  'Time': '0:34',\n",
       "  'Group ID': 'FOynWhcNPzX1WFMaUPiDcA',\n",
       "  'Image': 'Saboot_ss.jpg',\n",
       "  'Caption': 'Hello, this photo is sent from Selenium library.'},\n",
       " {'Date': '17/2/2022',\n",
       "  'Time': '0:36',\n",
       "  'Group ID': 'FOynWhcNPzX1WFMaUPiDcA',\n",
       "  'Message': 'Hello, this photo is sent from Selenium library!'},\n",
       " {'Date': '17/2/2022',\n",
       "  'Time': '0:38',\n",
       "  'Phone Number': '+918239957923',\n",
       "  'Message': 'Hi'},\n",
       " {'Date': '17/2/2022',\n",
       "  'Time': '0:41',\n",
       "  'Phone Number': '+918239957923',\n",
       "  'Message': 'Hi'},\n",
       " {'Date': '17/2/2022',\n",
       "  'Time': '0:42',\n",
       "  'Phone Number': '+918239957923',\n",
       "  'Image': 'Saboot_ss.jpg',\n",
       "  'Caption': ''},\n",
       " {'Date': '17/2/2022',\n",
       "  'Time': '0:43',\n",
       "  'Group ID': 'FOynWhcNPzX1WFMaUPiDcA',\n",
       "  'Image': 'Saboot_ss.jpg',\n",
       "  'Caption': 'Hello, this photo is sent from Selenium library.'}]"
      ]
     },
     "execution_count": 34,
     "metadata": {},
     "output_type": "execute_result"
    }
   ],
   "source": [
    "lst = []\n",
    "for j in mess[:-1]:\n",
    "    upd = {}\n",
    "    for i in j.split('\\n'):\n",
    "        kv = i.split(': ')\n",
    "#         print(kv)\n",
    "        try:\n",
    "            upd.update({kv[0] : kv[1]})\n",
    "        except:\n",
    "            pass\n",
    "    lst.append(upd)\n",
    "lst"
   ]
  },
  {
   "cell_type": "code",
   "execution_count": 35,
   "metadata": {},
   "outputs": [
    {
     "data": {
      "text/plain": [
       "10"
      ]
     },
     "execution_count": 35,
     "metadata": {},
     "output_type": "execute_result"
    }
   ],
   "source": [
    "len(lst)"
   ]
  },
  {
   "cell_type": "code",
   "execution_count": 37,
   "metadata": {},
   "outputs": [],
   "source": [
    "import json\n",
    "\n",
    "jfile = \"PyWhatKit_DB.json\"\n",
    "with open(jfile, \"w\") as file:\n",
    "    json.dump(lst, file)"
   ]
  },
  {
   "cell_type": "code",
   "execution_count": 38,
   "metadata": {},
   "outputs": [],
   "source": [
    "import os\n",
    "os.startfile(jfile)"
   ]
  },
  {
   "cell_type": "code",
   "execution_count": null,
   "metadata": {},
   "outputs": [],
   "source": []
  }
 ],
 "metadata": {
  "kernelspec": {
   "display_name": "Python 3",
   "language": "python",
   "name": "python3"
  },
  "language_info": {
   "codemirror_mode": {
    "name": "ipython",
    "version": 3
   },
   "file_extension": ".py",
   "mimetype": "text/x-python",
   "name": "python",
   "nbconvert_exporter": "python",
   "pygments_lexer": "ipython3",
   "version": "3.8.3"
  }
 },
 "nbformat": 4,
 "nbformat_minor": 4
}
